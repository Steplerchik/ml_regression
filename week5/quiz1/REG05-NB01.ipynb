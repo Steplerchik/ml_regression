{
 "cells": [
  {
   "cell_type": "markdown",
   "metadata": {},
   "source": [
    "# Regression Week 5: Feature Selection and LASSO (Interpretation)"
   ]
  },
  {
   "cell_type": "markdown",
   "metadata": {},
   "source": [
    "In this notebook, you will use LASSO to select features, building on a pre-implemented solver for LASSO (using Turi Create, though you can use other solvers). You will:\n",
    "* Run LASSO with different L1 penalties.\n",
    "* Choose best L1 penalty using a validation set.\n",
    "* Choose best L1 penalty using a validation set, with additional constraint on the size of subset.\n",
    "\n",
    "In the second notebook, you will implement your own LASSO solver, using coordinate descent. "
   ]
  },
  {
   "cell_type": "markdown",
   "metadata": {},
   "source": [
    "# Fire up Turi Create"
   ]
  },
  {
   "cell_type": "code",
   "execution_count": 1,
   "metadata": {},
   "outputs": [],
   "source": [
    "import turicreate"
   ]
  },
  {
   "cell_type": "markdown",
   "metadata": {},
   "source": [
    "# Load in house sales data\n",
    "\n",
    "Dataset is from house sales in King County, the region where the city of Seattle, WA is located."
   ]
  },
  {
   "cell_type": "code",
   "execution_count": 2,
   "metadata": {
    "scrolled": true
   },
   "outputs": [],
   "source": [
    "sales = turicreate.SFrame('home_data.sframe')"
   ]
  },
  {
   "cell_type": "markdown",
   "metadata": {},
   "source": [
    "# Create new features"
   ]
  },
  {
   "cell_type": "markdown",
   "metadata": {},
   "source": [
    "As in Week 2, we consider features that are some transformations of inputs."
   ]
  },
  {
   "cell_type": "code",
   "execution_count": 3,
   "metadata": {},
   "outputs": [],
   "source": [
    "from math import log, sqrt\n",
    "sales['sqft_living_sqrt'] = sales['sqft_living'].apply(sqrt)\n",
    "sales['sqft_lot_sqrt'] = sales['sqft_lot'].apply(sqrt)\n",
    "sales['bedrooms_square'] = sales['bedrooms']*sales['bedrooms']\n",
    "\n",
    "# In the dataset, 'floors' was defined with type string, \n",
    "# so we'll convert them to float, before creating a new feature.\n",
    "sales['floors'] = sales['floors'].astype(float) \n",
    "sales['floors_square'] = sales['floors']*sales['floors']"
   ]
  },
  {
   "cell_type": "markdown",
   "metadata": {},
   "source": [
    "* Squaring bedrooms will increase the separation between not many bedrooms (e.g. 1) and lots of bedrooms (e.g. 4) since 1^2 = 1 but 4^2 = 16. Consequently this variable will mostly affect houses with many bedrooms.\n",
    "* On the other hand, taking square root of sqft_living will decrease the separation between big house and small house. The owner may not be exactly twice as happy for getting a house that is twice as big."
   ]
  },
  {
   "cell_type": "markdown",
   "metadata": {},
   "source": [
    "# Learn regression weights with L1 penalty"
   ]
  },
  {
   "cell_type": "markdown",
   "metadata": {},
   "source": [
    "Let us fit a model with all the features available, plus the features we just created above."
   ]
  },
  {
   "cell_type": "code",
   "execution_count": 4,
   "metadata": {},
   "outputs": [],
   "source": [
    "all_features = ['bedrooms', 'bedrooms_square',\n",
    "                'bathrooms',\n",
    "                'sqft_living', 'sqft_living_sqrt',\n",
    "                'sqft_lot', 'sqft_lot_sqrt',\n",
    "                'floors', 'floors_square',\n",
    "                'waterfront', 'view', 'condition', 'grade',\n",
    "                'sqft_above',\n",
    "                'sqft_basement',\n",
    "                'yr_built', 'yr_renovated']"
   ]
  },
  {
   "cell_type": "markdown",
   "metadata": {},
   "source": [
    "Applying L1 penalty requires adding an extra parameter (`l1_penalty`) to the linear regression call in Turi Create. (Other tools may have separate implementations of LASSO.)  Note that it's important to set `l2_penalty=0` to ensure we don't introduce an additional L2 penalty."
   ]
  },
  {
   "cell_type": "code",
   "execution_count": 5,
   "metadata": {},
   "outputs": [
    {
     "data": {
      "text/plain": "Linear regression:",
      "text/html": "<pre>Linear regression:</pre>"
     },
     "metadata": {},
     "output_type": "display_data"
    },
    {
     "data": {
      "text/plain": "--------------------------------------------------------",
      "text/html": "<pre>--------------------------------------------------------</pre>"
     },
     "metadata": {},
     "output_type": "display_data"
    },
    {
     "data": {
      "text/plain": "Number of examples          : 21613",
      "text/html": "<pre>Number of examples          : 21613</pre>"
     },
     "metadata": {},
     "output_type": "display_data"
    },
    {
     "data": {
      "text/plain": "Number of features          : 17",
      "text/html": "<pre>Number of features          : 17</pre>"
     },
     "metadata": {},
     "output_type": "display_data"
    },
    {
     "data": {
      "text/plain": "Number of unpacked features : 17",
      "text/html": "<pre>Number of unpacked features : 17</pre>"
     },
     "metadata": {},
     "output_type": "display_data"
    },
    {
     "data": {
      "text/plain": "Number of coefficients    : 18",
      "text/html": "<pre>Number of coefficients    : 18</pre>"
     },
     "metadata": {},
     "output_type": "display_data"
    },
    {
     "data": {
      "text/plain": "Starting Accelerated Gradient (FISTA)",
      "text/html": "<pre>Starting Accelerated Gradient (FISTA)</pre>"
     },
     "metadata": {},
     "output_type": "display_data"
    },
    {
     "data": {
      "text/plain": "--------------------------------------------------------",
      "text/html": "<pre>--------------------------------------------------------</pre>"
     },
     "metadata": {},
     "output_type": "display_data"
    },
    {
     "data": {
      "text/plain": "Tuning step size. First iteration could take longer than subsequent iterations.",
      "text/html": "<pre>Tuning step size. First iteration could take longer than subsequent iterations.</pre>"
     },
     "metadata": {},
     "output_type": "display_data"
    },
    {
     "data": {
      "text/plain": "+-----------+----------+-----------+--------------+--------------------+---------------------------------+",
      "text/html": "<pre>+-----------+----------+-----------+--------------+--------------------+---------------------------------+</pre>"
     },
     "metadata": {},
     "output_type": "display_data"
    },
    {
     "data": {
      "text/plain": "| Iteration | Passes   | Step size | Elapsed Time | Training Max Error | Training Root-Mean-Square Error |",
      "text/html": "<pre>| Iteration | Passes   | Step size | Elapsed Time | Training Max Error | Training Root-Mean-Square Error |</pre>"
     },
     "metadata": {},
     "output_type": "display_data"
    },
    {
     "data": {
      "text/plain": "+-----------+----------+-----------+--------------+--------------------+---------------------------------+",
      "text/html": "<pre>+-----------+----------+-----------+--------------+--------------------+---------------------------------+</pre>"
     },
     "metadata": {},
     "output_type": "display_data"
    },
    {
     "data": {
      "text/plain": "| 0         | 1        | 1.000000  | 1.031006     | 7700000.000000     | 653047.733994                   |",
      "text/html": "<pre>| 0         | 1        | 1.000000  | 1.031006     | 7700000.000000     | 653047.733994                   |</pre>"
     },
     "metadata": {},
     "output_type": "display_data"
    },
    {
     "data": {
      "text/plain": "| 1         | 2        | 0.000002  | 1.870830     | 6962915.603493     | 426631.749026                   |",
      "text/html": "<pre>| 1         | 2        | 0.000002  | 1.870830     | 6962915.603493     | 426631.749026                   |</pre>"
     },
     "metadata": {},
     "output_type": "display_data"
    },
    {
     "data": {
      "text/plain": "| 2         | 3        | 0.000002  | 1.936134     | 6843144.200219     | 392488.929838                   |",
      "text/html": "<pre>| 2         | 3        | 0.000002  | 1.936134     | 6843144.200219     | 392488.929838                   |</pre>"
     },
     "metadata": {},
     "output_type": "display_data"
    },
    {
     "data": {
      "text/plain": "| 3         | 4        | 0.000002  | 2.014840     | 6831900.032123     | 385340.166783                   |",
      "text/html": "<pre>| 3         | 4        | 0.000002  | 2.014840     | 6831900.032123     | 385340.166783                   |</pre>"
     },
     "metadata": {},
     "output_type": "display_data"
    },
    {
     "data": {
      "text/plain": "| 4         | 5        | 0.000002  | 2.086234     | 6847166.848958     | 384842.383767                   |",
      "text/html": "<pre>| 4         | 5        | 0.000002  | 2.086234     | 6847166.848958     | 384842.383767                   |</pre>"
     },
     "metadata": {},
     "output_type": "display_data"
    },
    {
     "data": {
      "text/plain": "| 5         | 6        | 0.000002  | 2.162214     | 6869667.895833     | 385998.458623                   |",
      "text/html": "<pre>| 5         | 6        | 0.000002  | 2.162214     | 6869667.895833     | 385998.458623                   |</pre>"
     },
     "metadata": {},
     "output_type": "display_data"
    },
    {
     "data": {
      "text/plain": "| 10        | 11       | 0.000002  | 2.527357     | 6842123.232651     | 364204.576180                   |",
      "text/html": "<pre>| 10        | 11       | 0.000002  | 2.527357     | 6842123.232651     | 364204.576180                   |</pre>"
     },
     "metadata": {},
     "output_type": "display_data"
    },
    {
     "data": {
      "text/plain": "+-----------+----------+-----------+--------------+--------------------+---------------------------------+",
      "text/html": "<pre>+-----------+----------+-----------+--------------+--------------------+---------------------------------+</pre>"
     },
     "metadata": {},
     "output_type": "display_data"
    },
    {
     "data": {
      "text/plain": "Completed (Iteration limit reached).",
      "text/html": "<pre>Completed (Iteration limit reached).</pre>"
     },
     "metadata": {},
     "output_type": "display_data"
    },
    {
     "data": {
      "text/plain": "This model may not be optimal. To improve it, consider increasing `max_iterations`.",
      "text/html": "<pre>This model may not be optimal. To improve it, consider increasing `max_iterations`.</pre>"
     },
     "metadata": {},
     "output_type": "display_data"
    }
   ],
   "source": [
    "model_all = turicreate.linear_regression.create(sales, target='price', features=all_features,\n",
    "                                                validation_set=None, \n",
    "                                                l2_penalty=0., l1_penalty=1e10)"
   ]
  },
  {
   "cell_type": "markdown",
   "metadata": {},
   "source": [
    "Find what features had non-zero weight."
   ]
  },
  {
   "cell_type": "code",
   "execution_count": 6,
   "metadata": {},
   "outputs": [
    {
     "name": "stdout",
     "output_type": "stream",
     "text": [
      "+------------------+-------+--------------------+--------+\n",
      "|       name       | index |       value        | stderr |\n",
      "+------------------+-------+--------------------+--------+\n",
      "|   (intercept)    |  None | 274873.0559504957  |  None  |\n",
      "|     bedrooms     |  None |        0.0         |  None  |\n",
      "| bedrooms_square  |  None |        0.0         |  None  |\n",
      "|    bathrooms     |  None | 8468.531086910072  |  None  |\n",
      "|   sqft_living    |  None | 24.420720982445214 |  None  |\n",
      "| sqft_living_sqrt |  None | 350.0605533860648  |  None  |\n",
      "|     sqft_lot     |  None |        0.0         |  None  |\n",
      "|  sqft_lot_sqrt   |  None |        0.0         |  None  |\n",
      "|      floors      |  None |        0.0         |  None  |\n",
      "|  floors_square   |  None |        0.0         |  None  |\n",
      "|    waterfront    |  None |        0.0         |  None  |\n",
      "|       view       |  None |        0.0         |  None  |\n",
      "|    condition     |  None |        0.0         |  None  |\n",
      "|      grade       |  None | 842.0680348976282  |  None  |\n",
      "|    sqft_above    |  None | 20.024722417091304 |  None  |\n",
      "|  sqft_basement   |  None |        0.0         |  None  |\n",
      "|     yr_built     |  None |        0.0         |  None  |\n",
      "|   yr_renovated   |  None |        0.0         |  None  |\n",
      "+------------------+-------+--------------------+--------+\n",
      "[18 rows x 4 columns]\n",
      "\n"
     ]
    }
   ],
   "source": [
    "model_all.coefficients.print_rows(num_rows = 18)"
   ]
  },
  {
   "cell_type": "markdown",
   "metadata": {},
   "source": [
    "Note that a majority of the weights have been set to zero. So by setting an L1 penalty that's large enough, we are performing a subset selection. \n",
    "\n",
    "***QUIZ QUESTION***:\n",
    "According to this list of weights, which of the features have been chosen? "
   ]
  },
  {
   "cell_type": "markdown",
   "metadata": {},
   "source": [
    "# Selecting an L1 penalty"
   ]
  },
  {
   "cell_type": "markdown",
   "metadata": {},
   "source": [
    "To find a good L1 penalty, we will explore multiple values using a validation set. Let us do three way split into train, validation, and test sets:\n",
    "* Split our sales data into 2 sets: training and test\n",
    "* Further split our training data into two sets: train, validation\n",
    "\n",
    "Be *very* careful that you use seed = 1 to ensure you get the same answer!"
   ]
  },
  {
   "cell_type": "code",
   "execution_count": 7,
   "metadata": {},
   "outputs": [],
   "source": [
    "(training_and_validation, testing) = sales.random_split(.9,seed=1) # initial train/test split\n",
    "(training, validation) = training_and_validation.random_split(0.5, seed=1) # split training into train and validate"
   ]
  },
  {
   "cell_type": "markdown",
   "metadata": {},
   "source": [
    "Next, we write a loop that does the following:\n",
    "* For `l1_penalty` in [10^1, 10^1.5, 10^2, 10^2.5, ..., 10^7] (to get this in Python, type `np.logspace(1, 7, num=13)`.)\n",
    "    * Fit a regression model with a given `l1_penalty` on TRAIN data. Specify `l1_penalty=l1_penalty` and `l2_penalty=0.` in the parameter list.\n",
    "    * Compute the RSS on VALIDATION data (here you will want to use `.predict()`) for that `l1_penalty`\n",
    "* Report which `l1_penalty` produced the lowest RSS on validation data.\n",
    "\n",
    "When you call `linear_regression.create()` make sure you set `validation_set = None`.\n",
    "\n",
    "Note: you can turn off the print out of `linear_regression.create()` with `verbose = False`"
   ]
  },
  {
   "cell_type": "code",
   "execution_count": 8,
   "metadata": {},
   "outputs": [],
   "source": [
    "def get_residual_sum_of_squares(model, data, outcome):\n",
    "    # First get the predictions\n",
    "    predictions = model.predict(data)\n",
    "    # Then compute the residuals/errors\n",
    "    errors = predictions - outcome\n",
    "    # Then square and add them up\n",
    "    RSS = (errors * errors).sum()\n",
    "    return(RSS)"
   ]
  },
  {
   "cell_type": "code",
   "execution_count": 9,
   "outputs": [
    {
     "name": "stdout",
     "output_type": "stream",
     "text": [
      "10.0\n"
     ]
    }
   ],
   "source": [
    "import numpy as np\n",
    "\n",
    "l1_list = np.logspace(1, 7, num=13)\n",
    "error_report = []\n",
    "\n",
    "for l1_penalty in l1_list:\n",
    "    model = turicreate.linear_regression.create(training, target='price', features=all_features,\n",
    "                                                validation_set=None, \n",
    "                                                l2_penalty=0., l1_penalty=l1_penalty,\n",
    "                                                verbose = False)\n",
    "    error_report.append(get_residual_sum_of_squares(model, validation, validation['price']))\n",
    "\n",
    "l = error_report\n",
    "print(l1_list[l.index(min(l))])"
   ],
   "metadata": {
    "collapsed": false,
    "pycharm": {
     "name": "#%%\n"
    }
   }
  },
  {
   "cell_type": "code",
   "execution_count": 9,
   "metadata": {},
   "outputs": [],
   "source": []
  },
  {
   "cell_type": "markdown",
   "metadata": {},
   "source": [
    "*** QUIZ QUESTION. *** What was the best value for the `l1_penalty`? 10.0"
   ]
  },
  {
   "cell_type": "code",
   "execution_count": 9,
   "metadata": {},
   "outputs": [],
   "source": []
  },
  {
   "cell_type": "markdown",
   "metadata": {},
   "source": [
    "***QUIZ QUESTION***\n",
    "Also, using this value of L1 penalty, how many nonzero weights do you have? all"
   ]
  },
  {
   "cell_type": "code",
   "execution_count": 10,
   "metadata": {},
   "outputs": [
    {
     "name": "stdout",
     "output_type": "stream",
     "text": [
      "+------------------+-------+----------------------+--------+\n",
      "|       name       | index |        value         | stderr |\n",
      "+------------------+-------+----------------------+--------+\n",
      "|   (intercept)    |  None |  18993.427212770577  |  None  |\n",
      "|     bedrooms     |  None |  7936.967679031306   |  None  |\n",
      "| bedrooms_square  |  None |   936.993368193299   |  None  |\n",
      "|    bathrooms     |  None |  25409.58893412067   |  None  |\n",
      "|   sqft_living    |  None |  39.11513637970762   |  None  |\n",
      "| sqft_living_sqrt |  None |  1124.6502128077207  |  None  |\n",
      "|     sqft_lot     |  None | 0.003483618222989743 |  None  |\n",
      "|  sqft_lot_sqrt   |  None |  148.2583910114082   |  None  |\n",
      "|      floors      |  None |  21204.33546695013   |  None  |\n",
      "|  floors_square   |  None |  12915.524336072436  |  None  |\n",
      "|    waterfront    |  None |  601905.5945452718   |  None  |\n",
      "|       view       |  None |  93312.85731187189   |  None  |\n",
      "|    condition     |  None |  6609.035712447216   |  None  |\n",
      "|      grade       |  None |  6206.939991880551   |  None  |\n",
      "|    sqft_above    |  None |  43.28705341933558   |  None  |\n",
      "|  sqft_basement   |  None |  122.36782753411931  |  None  |\n",
      "|     yr_built     |  None |  9.433635393724884   |  None  |\n",
      "|   yr_renovated   |  None |  56.072003448822386  |  None  |\n",
      "+------------------+-------+----------------------+--------+\n",
      "[18 rows x 4 columns]\n",
      "\n"
     ]
    }
   ],
   "source": [
    "model = turicreate.linear_regression.create(training, target='price', features=all_features,\n",
    "                                                validation_set=None,\n",
    "                                                l2_penalty=0., l1_penalty=10.0,\n",
    "                                                verbose = False)\n",
    "model.coefficients.print_rows(num_rows = 19)"
   ]
  },
  {
   "cell_type": "code",
   "execution_count": 11,
   "outputs": [
    {
     "data": {
      "text/plain": "18"
     },
     "execution_count": 11,
     "metadata": {},
     "output_type": "execute_result"
    }
   ],
   "source": [
    "model.coefficients['value'].nnz()"
   ],
   "metadata": {
    "collapsed": false,
    "pycharm": {
     "name": "#%%\n"
    }
   }
  },
  {
   "cell_type": "markdown",
   "metadata": {},
   "source": [
    "# Limit the number of nonzero weights\n",
    "\n",
    "What if we absolutely wanted to limit ourselves to, say, 7 features? This may be important if we want to derive \"a rule of thumb\" --- an interpretable model that has only a few features in them."
   ]
  },
  {
   "cell_type": "markdown",
   "metadata": {},
   "source": [
    "In this section, you are going to implement a simple, two phase procedure to achive this goal:\n",
    "1. Explore a large range of `l1_penalty` values to find a narrow region of `l1_penalty` values where models are likely to have the desired number of non-zero weights.\n",
    "2. Further explore the narrow region you found to find a good value for `l1_penalty` that achieves the desired sparsity.  Here, we will again use a validation set to choose the best value for `l1_penalty`."
   ]
  },
  {
   "cell_type": "code",
   "execution_count": 22,
   "metadata": {},
   "outputs": [],
   "source": [
    "max_nonzeros = 7"
   ]
  },
  {
   "cell_type": "markdown",
   "metadata": {},
   "source": [
    "## Exploring the larger range of values to find a narrow range with the desired sparsity\n",
    "\n",
    "Let's define a wide range of possible `l1_penalty_values`:"
   ]
  },
  {
   "cell_type": "code",
   "execution_count": 13,
   "metadata": {},
   "outputs": [],
   "source": [
    "l1_penalty_values = np.logspace(8, 10, num=20)"
   ]
  },
  {
   "cell_type": "markdown",
   "metadata": {},
   "source": [
    "Now, implement a loop that search through this space of possible `l1_penalty` values:\n",
    "\n",
    "* For `l1_penalty` in `np.logspace(8, 10, num=20)`:\n",
    "    * Fit a regression model with a given `l1_penalty` on TRAIN data. Specify `l1_penalty=l1_penalty` and `l2_penalty=0.` in the parameter list. When you call `linear_regression.create()` make sure you set `validation_set = None`\n",
    "    * Extract the weights of the model and count the number of nonzeros. Save the number of nonzeros to a list.\n",
    "        * *Hint: `model.coefficients['value']` gives you an SArray with the parameters you learned.  If you call the method `.nnz()` on it, you will find the number of non-zero parameters!* "
   ]
  },
  {
   "cell_type": "code",
   "execution_count": 14,
   "metadata": {},
   "outputs": [],
   "source": [
    "nnz_list = []\n",
    "\n",
    "for l1_penalty in l1_penalty_values:\n",
    "    model = turicreate.linear_regression.create(training, target='price', features=all_features,\n",
    "                                                validation_set=None,\n",
    "                                                l2_penalty=0., l1_penalty=l1_penalty,\n",
    "                                                verbose = False)\n",
    "    nnz_list.append(model.coefficients['value'].nnz())"
   ]
  },
  {
   "cell_type": "code",
   "execution_count": 15,
   "outputs": [
    {
     "data": {
      "text/plain": "2976351441.6313133"
     },
     "execution_count": 15,
     "metadata": {},
     "output_type": "execute_result"
    }
   ],
   "source": [
    "l1_penalty_values[nnz_list.index(10)]"
   ],
   "metadata": {
    "collapsed": false,
    "pycharm": {
     "name": "#%%\n"
    }
   }
  },
  {
   "cell_type": "code",
   "execution_count": 16,
   "outputs": [
    {
     "data": {
      "text/plain": "[18, 18, 18, 18, 17, 17, 17, 17, 17, 16, 15, 15, 13, 12, 10, 6, 5, 3, 1, 1]"
     },
     "execution_count": 16,
     "metadata": {},
     "output_type": "execute_result"
    }
   ],
   "source": [
    "nnz_list"
   ],
   "metadata": {
    "collapsed": false,
    "pycharm": {
     "name": "#%%\n"
    }
   }
  },
  {
   "cell_type": "markdown",
   "metadata": {},
   "source": [
    "Out of this large range, we want to find the two ends of our desired narrow range of `l1_penalty`.  At one end, we will have `l1_penalty` values that have too few non-zeros, and at the other end, we will have an `l1_penalty` that has too many non-zeros.  \n",
    "\n",
    "More formally, find:\n",
    "* The largest `l1_penalty` that has more non-zeros than `max_nonzeros` (if we pick a penalty smaller than this value, we will definitely have too many non-zero weights)\n",
    "    * Store this value in the variable `l1_penalty_min` (we will use it later)\n",
    "* The smallest `l1_penalty` that has fewer non-zeros than `max_nonzeros` (if we pick a penalty larger than this value, we will definitely have too few non-zero weights)\n",
    "    * Store this value in the variable `l1_penalty_max` (we will use it later)\n",
    "\n",
    "\n",
    "*Hint: there are many ways to do this, e.g.:*\n",
    "* Programmatically within the loop above\n",
    "* Creating a list with the number of non-zeros for each value of `l1_penalty` and inspecting it to find the appropriate boundaries."
   ]
  },
  {
   "cell_type": "code",
   "execution_count": 17,
   "metadata": {},
   "outputs": [
    {
     "name": "stdout",
     "output_type": "stream",
     "text": [
      "l1_penalty_min: 2976351441.6313133\n",
      "l1_penalty_max 3792690190.7322536\n"
     ]
    }
   ],
   "source": [
    "l1_penalty_min = l1_penalty_values[nnz_list.index(10)]\n",
    "l1_penalty_max = l1_penalty_values[nnz_list.index(6)]\n",
    "\n",
    "print('l1_penalty_min:', l1_penalty_min)\n",
    "print('l1_penalty_max', l1_penalty_max)"
   ]
  },
  {
   "cell_type": "markdown",
   "metadata": {},
   "source": [
    "***QUIZ QUESTION.*** What values did you find for `l1_penalty_min` and `l1_penalty_max`, respectively? "
   ]
  },
  {
   "cell_type": "markdown",
   "metadata": {},
   "source": [
    "## Exploring the narrow range of values to find the solution with the right number of non-zeros that has lowest RSS on the validation set \n",
    "\n",
    "We will now explore the narrow region of `l1_penalty` values we found:"
   ]
  },
  {
   "cell_type": "code",
   "execution_count": 24,
   "metadata": {},
   "outputs": [],
   "source": [
    "l1_penalty_values = np.linspace(l1_penalty_min,l1_penalty_max,20)"
   ]
  },
  {
   "cell_type": "markdown",
   "metadata": {},
   "source": [
    "* For `l1_penalty` in `np.linspace(l1_penalty_min,l1_penalty_max,20)`:\n",
    "    * Fit a regression model with a given `l1_penalty` on TRAIN data. Specify `l1_penalty=l1_penalty` and `l2_penalty=0.` in the parameter list. When you call `linear_regression.create()` make sure you set `validation_set = None`\n",
    "    * Measure the RSS of the learned model on the VALIDATION set\n",
    "\n",
    "Find the model that the lowest RSS on the VALIDATION set and has sparsity *equal* to `max_nonzeros`."
   ]
  },
  {
   "cell_type": "code",
   "execution_count": 27,
   "metadata": {},
   "outputs": [
    {
     "name": "stdout",
     "output_type": "stream",
     "text": [
      "7\n",
      "3448968612.163437\n",
      "7\n",
      "3491933809.484539\n",
      "7\n",
      "3534899006.805641\n",
      "7\n",
      "3577864204.126743\n",
      "final 3448968612.163437\n"
     ]
    }
   ],
   "source": [
    "error_report = []\n",
    "l1_penalty_report = []\n",
    "for l1_penalty in l1_penalty_values:\n",
    "    model = turicreate.linear_regression.create(training, target='price', features=all_features,\n",
    "                                                validation_set=None,\n",
    "                                                l2_penalty=0., l1_penalty=l1_penalty,\n",
    "                                                verbose = False)\n",
    "    if model.coefficients['value'].nnz() == max_nonzeros:\n",
    "        print(model.coefficients['value'].nnz())\n",
    "        print(l1_penalty)\n",
    "        l1_penalty_report.append(l1_penalty)\n",
    "        error_report.append(get_residual_sum_of_squares(model, validation, validation['price']))\n",
    "\n",
    "l = error_report\n",
    "final_l1 = l1_penalty_report[l.index(min(l))]\n",
    "print(\"final\", final_l1)\n",
    "\n",
    "\n"
   ]
  },
  {
   "cell_type": "markdown",
   "metadata": {},
   "source": [
    "***QUIZ QUESTIONS***\n",
    "1. What value of `l1_penalty` in our narrow range has the lowest RSS on the VALIDATION set and has sparsity *equal* to `max_nonzeros`?\n",
    "2. What features in this model have non-zero coefficients?"
   ]
  },
  {
   "cell_type": "code",
   "execution_count": 28,
   "metadata": {},
   "outputs": [
    {
     "name": "stdout",
     "output_type": "stream",
     "text": [
      "+------------------+-------+--------------------+--------+\n",
      "|       name       | index |       value        | stderr |\n",
      "+------------------+-------+--------------------+--------+\n",
      "|   (intercept)    |  None | 222253.19254432785 |  None  |\n",
      "|     bedrooms     |  None | 661.7227177822587  |  None  |\n",
      "| bedrooms_square  |  None |        0.0         |  None  |\n",
      "|    bathrooms     |  None | 15873.957259267981 |  None  |\n",
      "|   sqft_living    |  None | 32.41022145125964  |  None  |\n",
      "| sqft_living_sqrt |  None | 690.1147733133256  |  None  |\n",
      "|     sqft_lot     |  None |        0.0         |  None  |\n",
      "|  sqft_lot_sqrt   |  None |        0.0         |  None  |\n",
      "|      floors      |  None |        0.0         |  None  |\n",
      "|  floors_square   |  None |        0.0         |  None  |\n",
      "|    waterfront    |  None |        0.0         |  None  |\n",
      "|       view       |  None |        0.0         |  None  |\n",
      "|    condition     |  None |        0.0         |  None  |\n",
      "|      grade       |  None | 2899.4202697498786 |  None  |\n",
      "|    sqft_above    |  None | 30.011575302201045 |  None  |\n",
      "|  sqft_basement   |  None |        0.0         |  None  |\n",
      "|     yr_built     |  None |        0.0         |  None  |\n",
      "|   yr_renovated   |  None |        0.0         |  None  |\n",
      "+------------------+-------+--------------------+--------+\n",
      "[18 rows x 4 columns]\n",
      "\n"
     ]
    }
   ],
   "source": [
    "model = turicreate.linear_regression.create(training, target='price', features=all_features,\n",
    "                                                validation_set=None,\n",
    "                                                l2_penalty=0., l1_penalty=final_l1,\n",
    "                                                verbose = False)\n",
    "\n",
    "model.coefficients.print_rows(num_rows = 18)"
   ]
  },
  {
   "cell_type": "code",
   "execution_count": 21,
   "outputs": [
    {
     "data": {
      "text/plain": "10"
     },
     "execution_count": 21,
     "metadata": {},
     "output_type": "execute_result"
    }
   ],
   "source": [
    "model.coefficients['value'].nnz()\n",
    "\n"
   ],
   "metadata": {
    "collapsed": false,
    "pycharm": {
     "name": "#%%\n"
    }
   }
  },
  {
   "cell_type": "code",
   "execution_count": null,
   "outputs": [],
   "source": [
    "\n"
   ],
   "metadata": {
    "collapsed": false,
    "pycharm": {
     "name": "#%%\n"
    }
   }
  }
 ],
 "metadata": {
  "kernelspec": {
   "display_name": "Python 2",
   "language": "python",
   "name": "python2"
  },
  "language_info": {
   "codemirror_mode": {
    "name": "ipython",
    "version": 2
   },
   "file_extension": ".py",
   "mimetype": "text/x-python",
   "name": "python",
   "nbconvert_exporter": "python",
   "pygments_lexer": "ipython2",
   "version": "2.7.15"
  }
 },
 "nbformat": 4,
 "nbformat_minor": 1
}